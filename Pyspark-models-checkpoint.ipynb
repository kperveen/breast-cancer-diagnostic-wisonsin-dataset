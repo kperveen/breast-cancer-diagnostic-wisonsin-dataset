{
 "cells": [
  {
   "cell_type": "code",
   "execution_count": 1,
   "metadata": {},
   "outputs": [
    {
     "data": {
      "application/vnd.jupyter.widget-view+json": {
       "model_id": "8eb117335ab44a838a32068bd3c46a53",
       "version_major": 2,
       "version_minor": 0
      },
      "text/plain": [
       "VBox()"
      ]
     },
     "metadata": {},
     "output_type": "display_data"
    },
    {
     "name": "stdout",
     "output_type": "stream",
     "text": [
      "Starting Spark application\n"
     ]
    },
    {
     "data": {
      "text/html": [
       "<table>\n",
       "<tr><th>ID</th><th>YARN Application ID</th><th>Kind</th><th>State</th><th>Spark UI</th><th>Driver log</th><th>Current session?</th></tr><tr><td>3</td><td>application_1607322711004_0011</td><td>pyspark</td><td>idle</td><td><a target=\"_blank\" href=\"http://ip-172-31-26-213.us-east-2.compute.internal:20888/proxy/application_1607322711004_0011/\">Link</a></td><td><a target=\"_blank\" href=\"http://ip-172-31-23-101.us-east-2.compute.internal:8042/node/containerlogs/container_1607322711004_0011_01_000001/livy\">Link</a></td><td>✔</td></tr></table>"
      ],
      "text/plain": [
       "<IPython.core.display.HTML object>"
      ]
     },
     "metadata": {},
     "output_type": "display_data"
    },
    {
     "data": {
      "application/vnd.jupyter.widget-view+json": {
       "model_id": "",
       "version_major": 2,
       "version_minor": 0
      },
      "text/plain": [
       "FloatProgress(value=0.0, bar_style='info', description='Progress:', layout=Layout(height='25px', width='50%'),…"
      ]
     },
     "metadata": {},
     "output_type": "display_data"
    },
    {
     "name": "stdout",
     "output_type": "stream",
     "text": [
      "SparkSession available as 'spark'.\n"
     ]
    },
    {
     "data": {
      "application/vnd.jupyter.widget-view+json": {
       "model_id": "",
       "version_major": 2,
       "version_minor": 0
      },
      "text/plain": [
       "FloatProgress(value=0.0, bar_style='info', description='Progress:', layout=Layout(height='25px', width='50%'),…"
      ]
     },
     "metadata": {},
     "output_type": "display_data"
    },
    {
     "name": "stdout",
     "output_type": "stream",
     "text": [
      "Collecting pandas==0.25.1\n",
      "  Using cached https://files.pythonhosted.org/packages/7e/ab/ea76361f9d3e732e114adcd801d2820d5319c23d0ac5482fa3b412db217e/pandas-0.25.1-cp37-cp37m-manylinux1_x86_64.whl\n",
      "Requirement already satisfied: pytz>=2017.2 in /usr/local/lib/python3.7/site-packages (from pandas==0.25.1)\n",
      "Requirement already satisfied: numpy>=1.13.3 in /usr/local/lib64/python3.7/site-packages (from pandas==0.25.1)\n",
      "Collecting python-dateutil>=2.6.1 (from pandas==0.25.1)\n",
      "  Using cached https://files.pythonhosted.org/packages/d4/70/d60450c3dd48ef87586924207ae8907090de0b306af2bce5d134d78615cb/python_dateutil-2.8.1-py2.py3-none-any.whl\n",
      "Requirement already satisfied: six>=1.5 in /usr/local/lib/python3.7/site-packages (from python-dateutil>=2.6.1->pandas==0.25.1)\n",
      "Installing collected packages: python-dateutil, pandas\n",
      "Successfully installed pandas-0.25.1 python-dateutil-2.8.1"
     ]
    }
   ],
   "source": [
    "from pyspark.sql import SparkSession\n",
    "from pyspark.ml.classification import LogisticRegression\n",
    "sc.install_pypi_package(\"pandas==0.25.1\")"
   ]
  },
  {
   "cell_type": "code",
   "execution_count": 2,
   "metadata": {},
   "outputs": [
    {
     "data": {
      "application/vnd.jupyter.widget-view+json": {
       "model_id": "056cf797ae984f238d0109ffc8e90c70",
       "version_major": 2,
       "version_minor": 0
      },
      "text/plain": [
       "VBox()"
      ]
     },
     "metadata": {},
     "output_type": "display_data"
    },
    {
     "data": {
      "application/vnd.jupyter.widget-view+json": {
       "model_id": "",
       "version_major": 2,
       "version_minor": 0
      },
      "text/plain": [
       "FloatProgress(value=0.0, bar_style='info', description='Progress:', layout=Layout(height='25px', width='50%'),…"
      ]
     },
     "metadata": {},
     "output_type": "display_data"
    },
    {
     "name": "stdout",
     "output_type": "stream",
     "text": [
      "Collecting matplotlib\n",
      "  Using cached https://files.pythonhosted.org/packages/30/f2/10c822cb0ca5ebec58bd1892187bc3e3db64a867ac26531c6204663fc218/matplotlib-3.3.3-cp37-cp37m-manylinux1_x86_64.whl\n",
      "Requirement already satisfied: numpy>=1.15 in /usr/local/lib64/python3.7/site-packages (from matplotlib)\n",
      "Requirement already satisfied: python-dateutil>=2.1 in /mnt/tmp/1607376144976-0/lib/python3.7/site-packages (from matplotlib)\n",
      "Collecting pyparsing!=2.0.4,!=2.1.2,!=2.1.6,>=2.0.3 (from matplotlib)\n",
      "  Using cached https://files.pythonhosted.org/packages/8a/bb/488841f56197b13700afd5658fc279a2025a39e22449b7cf29864669b15d/pyparsing-2.4.7-py2.py3-none-any.whl\n",
      "Collecting pillow>=6.2.0 (from matplotlib)\n",
      "  Using cached https://files.pythonhosted.org/packages/af/fa/c1302a26d5e1a17fa8e10e43417b6cf038b0648c4b79fcf2302a4a0c5d30/Pillow-8.0.1-cp37-cp37m-manylinux1_x86_64.whl\n",
      "Collecting cycler>=0.10 (from matplotlib)\n",
      "  Using cached https://files.pythonhosted.org/packages/f7/d2/e07d3ebb2bd7af696440ce7e754c59dd546ffe1bbe732c8ab68b9c834e61/cycler-0.10.0-py2.py3-none-any.whl\n",
      "Collecting kiwisolver>=1.0.1 (from matplotlib)\n",
      "  Using cached https://files.pythonhosted.org/packages/d2/46/231de802ade4225b76b96cffe419cf3ce52bbe92e3b092cf12db7d11c207/kiwisolver-1.3.1-cp37-cp37m-manylinux1_x86_64.whl\n",
      "Requirement already satisfied: six>=1.5 in /usr/local/lib/python3.7/site-packages (from python-dateutil>=2.1->matplotlib)\n",
      "Installing collected packages: pyparsing, pillow, cycler, kiwisolver, matplotlib\n",
      "Successfully installed cycler-0.10.0 kiwisolver-1.3.1 matplotlib-3.3.3 pillow-8.0.1 pyparsing-2.4.7"
     ]
    }
   ],
   "source": [
    "sc.install_pypi_package(\"matplotlib\")\n"
   ]
  },
  {
   "cell_type": "code",
   "execution_count": 3,
   "metadata": {},
   "outputs": [
    {
     "data": {
      "application/vnd.jupyter.widget-view+json": {
       "model_id": "9d313b3ce23445d4a2d47250446913f0",
       "version_major": 2,
       "version_minor": 0
      },
      "text/plain": [
       "VBox()"
      ]
     },
     "metadata": {},
     "output_type": "display_data"
    },
    {
     "data": {
      "application/vnd.jupyter.widget-view+json": {
       "model_id": "",
       "version_major": 2,
       "version_minor": 0
      },
      "text/plain": [
       "FloatProgress(value=0.0, bar_style='info', description='Progress:', layout=Layout(height='25px', width='50%'),…"
      ]
     },
     "metadata": {},
     "output_type": "display_data"
    },
    {
     "name": "stdout",
     "output_type": "stream",
     "text": [
      "Collecting sklearn\n",
      "Collecting scikit-learn (from sklearn)\n",
      "  Using cached https://files.pythonhosted.org/packages/f4/cb/64623369f348e9bfb29ff898a57ac7c91ed4921f228e9726546614d63ccb/scikit_learn-0.23.2-cp37-cp37m-manylinux1_x86_64.whl\n",
      "Collecting scipy>=0.19.1 (from scikit-learn->sklearn)\n",
      "  Using cached https://files.pythonhosted.org/packages/dc/7e/8f6a79b102ca1ea928bae8998b05bf5dc24a90571db13cd119f275ba6252/scipy-1.5.4-cp37-cp37m-manylinux1_x86_64.whl\n",
      "Requirement already satisfied: numpy>=1.13.3 in /usr/local/lib64/python3.7/site-packages (from scikit-learn->sklearn)\n",
      "Requirement already satisfied: joblib>=0.11 in /usr/lib64/python3.7/site-packages (from scikit-learn->sklearn)\n",
      "Collecting threadpoolctl>=2.0.0 (from scikit-learn->sklearn)\n",
      "  Using cached https://files.pythonhosted.org/packages/f7/12/ec3f2e203afa394a149911729357aa48affc59c20e2c1c8297a60f33f133/threadpoolctl-2.1.0-py3-none-any.whl\n",
      "Installing collected packages: scipy, threadpoolctl, scikit-learn, sklearn\n",
      "Successfully installed scikit-learn-0.23.2 scipy-1.5.4 sklearn-0.0 threadpoolctl-2.1.0"
     ]
    }
   ],
   "source": [
    "sc.install_pypi_package(\"sklearn\")"
   ]
  },
  {
   "cell_type": "code",
   "execution_count": 4,
   "metadata": {},
   "outputs": [
    {
     "data": {
      "application/vnd.jupyter.widget-view+json": {
       "model_id": "780e3f8728e34d1a97ecd8cbf7206de8",
       "version_major": 2,
       "version_minor": 0
      },
      "text/plain": [
       "VBox()"
      ]
     },
     "metadata": {},
     "output_type": "display_data"
    },
    {
     "data": {
      "application/vnd.jupyter.widget-view+json": {
       "model_id": "",
       "version_major": 2,
       "version_minor": 0
      },
      "text/plain": [
       "FloatProgress(value=0.0, bar_style='info', description='Progress:', layout=Layout(height='25px', width='50%'),…"
      ]
     },
     "metadata": {},
     "output_type": "display_data"
    },
    {
     "name": "stdout",
     "output_type": "stream",
     "text": [
      "Collecting seaborn\n",
      "  Using cached https://files.pythonhosted.org/packages/bc/45/5118a05b0d61173e6eb12bc5804f0fbb6f196adb0a20e0b16efc2b8e98be/seaborn-0.11.0-py3-none-any.whl\n",
      "Requirement already satisfied: numpy>=1.15 in /usr/local/lib64/python3.7/site-packages (from seaborn)\n",
      "Requirement already satisfied: scipy>=1.0 in /mnt/tmp/1607376144976-0/lib/python3.7/site-packages (from seaborn)\n",
      "Requirement already satisfied: matplotlib>=2.2 in /mnt/tmp/1607376144976-0/lib/python3.7/site-packages (from seaborn)\n",
      "Requirement already satisfied: pandas>=0.23 in /mnt/tmp/1607376144976-0/lib/python3.7/site-packages (from seaborn)\n",
      "Requirement already satisfied: python-dateutil>=2.1 in /mnt/tmp/1607376144976-0/lib/python3.7/site-packages (from matplotlib>=2.2->seaborn)\n",
      "Requirement already satisfied: pyparsing!=2.0.4,!=2.1.2,!=2.1.6,>=2.0.3 in /mnt/tmp/1607376144976-0/lib/python3.7/site-packages (from matplotlib>=2.2->seaborn)\n",
      "Requirement already satisfied: pillow>=6.2.0 in /mnt/tmp/1607376144976-0/lib/python3.7/site-packages (from matplotlib>=2.2->seaborn)\n",
      "Requirement already satisfied: cycler>=0.10 in /mnt/tmp/1607376144976-0/lib/python3.7/site-packages (from matplotlib>=2.2->seaborn)\n",
      "Requirement already satisfied: kiwisolver>=1.0.1 in /mnt/tmp/1607376144976-0/lib/python3.7/site-packages (from matplotlib>=2.2->seaborn)\n",
      "Requirement already satisfied: pytz>=2017.2 in /usr/local/lib/python3.7/site-packages (from pandas>=0.23->seaborn)\n",
      "Requirement already satisfied: six>=1.5 in /usr/local/lib/python3.7/site-packages (from python-dateutil>=2.1->matplotlib>=2.2->seaborn)\n",
      "Installing collected packages: seaborn\n",
      "Successfully installed seaborn-0.11.0"
     ]
    }
   ],
   "source": [
    "sc.install_pypi_package(\"seaborn\")"
   ]
  },
  {
   "cell_type": "code",
   "execution_count": 89,
   "metadata": {},
   "outputs": [
    {
     "data": {
      "application/vnd.jupyter.widget-view+json": {
       "model_id": "1eedda0553fc427296cebd7a0ee5d8ac",
       "version_major": 2,
       "version_minor": 0
      },
      "text/plain": [
       "VBox()"
      ]
     },
     "metadata": {},
     "output_type": "display_data"
    },
    {
     "data": {
      "application/vnd.jupyter.widget-view+json": {
       "model_id": "",
       "version_major": 2,
       "version_minor": 0
      },
      "text/plain": [
       "FloatProgress(value=0.0, bar_style='info', description='Progress:', layout=Layout(height='25px', width='50%'),…"
      ]
     },
     "metadata": {},
     "output_type": "display_data"
    }
   ],
   "source": [
    "import numpy as np\n",
    "import matplotlib\n",
    "import matplotlib.pyplot as plt\n",
    "import sklearn \n",
    "import seaborn as sns\n",
    "import pandas as pd\n",
    "\n",
    "from pyspark.ml.classification import LogisticRegression\n",
    "from pyspark.ml.evaluation import BinaryClassificationEvaluator\n",
    "from pyspark.ml.classification import NaiveBayes\n",
    "from pyspark.ml.classification import DecisionTreeClassifier\n",
    "from pyspark.ml.classification import RandomForestClassifier\n",
    "\n",
    "from sklearn.metrics import accuracy_score, precision_score, recall_score, classification_report, confusion_matrix"
   ]
  },
  {
   "cell_type": "code",
   "execution_count": 6,
   "metadata": {},
   "outputs": [
    {
     "data": {
      "application/vnd.jupyter.widget-view+json": {
       "model_id": "d154428ec8f24b86b29372f7701402c4",
       "version_major": 2,
       "version_minor": 0
      },
      "text/plain": [
       "VBox()"
      ]
     },
     "metadata": {},
     "output_type": "display_data"
    },
    {
     "data": {
      "application/vnd.jupyter.widget-view+json": {
       "model_id": "",
       "version_major": 2,
       "version_minor": 0
      },
      "text/plain": [
       "FloatProgress(value=0.0, bar_style='info', description='Progress:', layout=Layout(height='25px', width='50%'),…"
      ]
     },
     "metadata": {},
     "output_type": "display_data"
    }
   ],
   "source": [
    "spark = SparkSession.builder.appName('breast-cancer-analysis').getOrCreate()"
   ]
  },
  {
   "cell_type": "code",
   "execution_count": 7,
   "metadata": {},
   "outputs": [
    {
     "data": {
      "application/vnd.jupyter.widget-view+json": {
       "model_id": "1144e937ab9f427ebd6df6363d093aee",
       "version_major": 2,
       "version_minor": 0
      },
      "text/plain": [
       "VBox()"
      ]
     },
     "metadata": {},
     "output_type": "display_data"
    },
    {
     "data": {
      "application/vnd.jupyter.widget-view+json": {
       "model_id": "",
       "version_major": 2,
       "version_minor": 0
      },
      "text/plain": [
       "FloatProgress(value=0.0, bar_style='info', description='Progress:', layout=Layout(height='25px', width='50%'),…"
      ]
     },
     "metadata": {},
     "output_type": "display_data"
    }
   ],
   "source": [
    "lrEval = BinaryClassificationEvaluator()"
   ]
  },
  {
   "cell_type": "code",
   "execution_count": 57,
   "metadata": {},
   "outputs": [
    {
     "data": {
      "application/vnd.jupyter.widget-view+json": {
       "model_id": "3836bee63db341b5854f9c89ae0c990e",
       "version_major": 2,
       "version_minor": 0
      },
      "text/plain": [
       "VBox()"
      ]
     },
     "metadata": {},
     "output_type": "display_data"
    },
    {
     "data": {
      "application/vnd.jupyter.widget-view+json": {
       "model_id": "",
       "version_major": 2,
       "version_minor": 0
      },
      "text/plain": [
       "FloatProgress(value=0.0, bar_style='info', description='Progress:', layout=Layout(height='25px', width='50%'),…"
      ]
     },
     "metadata": {},
     "output_type": "display_data"
    },
    {
     "name": "stdout",
     "output_type": "stream",
     "text": [
      "root\n",
      " |-- id: integer (nullable = true)\n",
      " |-- diagnosis: string (nullable = true)\n",
      " |-- radius_mean: double (nullable = true)\n",
      " |-- texture_mean: double (nullable = true)\n",
      " |-- perimeter_mean: double (nullable = true)\n",
      " |-- area_mean: double (nullable = true)\n",
      " |-- smoothness_mean: double (nullable = true)\n",
      " |-- compactness_mean: double (nullable = true)\n",
      " |-- concavity_mean: double (nullable = true)\n",
      " |-- concave points_mean: double (nullable = true)\n",
      " |-- symmetry_mean: double (nullable = true)\n",
      " |-- fractal_dimension_mean: double (nullable = true)\n",
      " |-- radius_se: double (nullable = true)\n",
      " |-- texture_se: double (nullable = true)\n",
      " |-- perimeter_se: double (nullable = true)\n",
      " |-- area_se: double (nullable = true)\n",
      " |-- smoothness_se: double (nullable = true)\n",
      " |-- compactness_se: double (nullable = true)\n",
      " |-- concavity_se: double (nullable = true)\n",
      " |-- concave points_se: double (nullable = true)\n",
      " |-- symmetry_se: double (nullable = true)\n",
      " |-- fractal_dimension_se: double (nullable = true)\n",
      " |-- radius_worst: double (nullable = true)\n",
      " |-- texture_worst: double (nullable = true)\n",
      " |-- perimeter_worst: double (nullable = true)\n",
      " |-- area_worst: double (nullable = true)\n",
      " |-- smoothness_worst: double (nullable = true)\n",
      " |-- compactness_worst: double (nullable = true)\n",
      " |-- concavity_worst: double (nullable = true)\n",
      " |-- concave points_worst: double (nullable = true)\n",
      " |-- symmetry_worst: double (nullable = true)\n",
      " |-- fractal_dimension_worst: double (nullable = true)"
     ]
    }
   ],
   "source": [
    "df = spark.read.csv('data.csv', header = True, inferSchema = True)\n",
    "df.printSchema()"
   ]
  },
  {
   "cell_type": "code",
   "execution_count": 58,
   "metadata": {},
   "outputs": [
    {
     "data": {
      "application/vnd.jupyter.widget-view+json": {
       "model_id": "7985d56f493c49749cb696962b4cd2ec",
       "version_major": 2,
       "version_minor": 0
      },
      "text/plain": [
       "VBox()"
      ]
     },
     "metadata": {},
     "output_type": "display_data"
    },
    {
     "data": {
      "application/vnd.jupyter.widget-view+json": {
       "model_id": "",
       "version_major": 2,
       "version_minor": 0
      },
      "text/plain": [
       "FloatProgress(value=0.0, bar_style='info', description='Progress:', layout=Layout(height='25px', width='50%'),…"
      ]
     },
     "metadata": {},
     "output_type": "display_data"
    },
    {
     "name": "stdout",
     "output_type": "stream",
     "text": [
      "                                0         1         2         3         4\n",
      "id                         842302    842517  84300903  84348301  84358402\n",
      "diagnosis                       M         M         M         M         M\n",
      "radius_mean                 17.99     20.57     19.69     11.42     20.29\n",
      "texture_mean                10.38     17.77     21.25     20.38     14.34\n",
      "perimeter_mean              122.8     132.9       130     77.58     135.1\n",
      "area_mean                    1001      1326      1203     386.1      1297\n",
      "smoothness_mean            0.1184   0.08474    0.1096    0.1425    0.1003\n",
      "compactness_mean           0.2776   0.07864    0.1599    0.2839    0.1328\n",
      "concavity_mean             0.3001    0.0869    0.1974    0.2414     0.198\n",
      "concave points_mean        0.1471   0.07017    0.1279    0.1052    0.1043\n",
      "symmetry_mean              0.2419    0.1812    0.2069    0.2597    0.1809\n",
      "fractal_dimension_mean    0.07871   0.05667   0.05999   0.09744   0.05883\n",
      "radius_se                   1.095    0.5435    0.7456    0.4956    0.7572\n",
      "texture_se                 0.9053    0.7339    0.7869     1.156    0.7813\n",
      "perimeter_se                8.589     3.398     4.585     3.445     5.438\n",
      "area_se                     153.4     74.08     94.03     27.23     94.44\n",
      "smoothness_se            0.006399  0.005225   0.00615   0.00911   0.01149\n",
      "compactness_se            0.04904   0.01308   0.04006   0.07458   0.02461\n",
      "concavity_se              0.05373    0.0186   0.03832   0.05661   0.05688\n",
      "concave points_se         0.01587    0.0134   0.02058   0.01867   0.01885\n",
      "symmetry_se               0.03003   0.01389    0.0225   0.05963   0.01756\n",
      "fractal_dimension_se     0.006193  0.003532  0.004571  0.009208  0.005115\n",
      "radius_worst                25.38     24.99     23.57     14.91     22.54\n",
      "texture_worst               17.33     23.41     25.53      26.5     16.67\n",
      "perimeter_worst             184.6     158.8     152.5     98.87     152.2\n",
      "area_worst                   2019      1956      1709     567.7      1575\n",
      "smoothness_worst           0.1622    0.1238    0.1444    0.2098    0.1374\n",
      "compactness_worst          0.6656    0.1866    0.4245    0.8663     0.205\n",
      "concavity_worst            0.7119    0.2416    0.4504    0.6869       0.4\n",
      "concave points_worst       0.2654     0.186     0.243    0.2575    0.1625\n",
      "symmetry_worst             0.4601     0.275    0.3613    0.6638    0.2364\n",
      "fractal_dimension_worst    0.1189   0.08902   0.08758     0.173   0.07678"
     ]
    }
   ],
   "source": [
    "pd.DataFrame(df.take(5), columns=df.columns).transpose()"
   ]
  },
  {
   "cell_type": "code",
   "execution_count": 59,
   "metadata": {},
   "outputs": [
    {
     "data": {
      "application/vnd.jupyter.widget-view+json": {
       "model_id": "ed7b18b1fc8647c7882690e6c4a4eb68",
       "version_major": 2,
       "version_minor": 0
      },
      "text/plain": [
       "VBox()"
      ]
     },
     "metadata": {},
     "output_type": "display_data"
    },
    {
     "data": {
      "application/vnd.jupyter.widget-view+json": {
       "model_id": "",
       "version_major": 2,
       "version_minor": 0
      },
      "text/plain": [
       "FloatProgress(value=0.0, bar_style='info', description='Progress:', layout=Layout(height='25px', width='50%'),…"
      ]
     },
     "metadata": {},
     "output_type": "display_data"
    },
    {
     "name": "stdout",
     "output_type": "stream",
     "text": [
      "diagnosis\n",
      "B    357\n",
      "M    212\n",
      "dtype: int64"
     ]
    }
   ],
   "source": [
    "df.toPandas().groupby(['diagnosis']).size()"
   ]
  },
  {
   "cell_type": "code",
   "execution_count": 60,
   "metadata": {},
   "outputs": [
    {
     "data": {
      "application/vnd.jupyter.widget-view+json": {
       "model_id": "7a7479d7ac8441e59ecd21ceeb86f582",
       "version_major": 2,
       "version_minor": 0
      },
      "text/plain": [
       "VBox()"
      ]
     },
     "metadata": {},
     "output_type": "display_data"
    },
    {
     "data": {
      "application/vnd.jupyter.widget-view+json": {
       "model_id": "",
       "version_major": 2,
       "version_minor": 0
      },
      "text/plain": [
       "FloatProgress(value=0.0, bar_style='info', description='Progress:', layout=Layout(height='25px', width='50%'),…"
      ]
     },
     "metadata": {},
     "output_type": "display_data"
    },
    {
     "name": "stdout",
     "output_type": "stream",
     "text": [
      "                             0                      1  ...         3        4\n",
      "summary                  count                   mean  ...       min      max\n",
      "radius_mean                569     14.127291739894563  ...     6.981    28.11\n",
      "texture_mean               569      19.28964850615117  ...      9.71    39.28\n",
      "perimeter_mean             569      91.96903339191566  ...     43.79    188.5\n",
      "area_mean                  569      654.8891036906857  ...     143.5   2501.0\n",
      "smoothness_mean            569      0.096360281195079  ...   0.05263   0.1634\n",
      "compactness_mean           569    0.10434098418277686  ...   0.01938   0.3454\n",
      "concavity_mean             569    0.08879931581722322  ...       0.0   0.4268\n",
      "concave points_mean        569   0.048919145869947236  ...       0.0   0.2012\n",
      "symmetry_mean              569      0.181161862917399  ...     0.106    0.304\n",
      "fractal_dimension_mean     569    0.06279760984182778  ...   0.04996  0.09744\n",
      "radius_se                  569     0.4051720562390161  ...    0.1115    2.873\n",
      "texture_se                 569     1.2168534270650269  ...    0.3602    4.885\n",
      "perimeter_se               569     2.8660592267135288  ...     0.757    21.98\n",
      "area_se                    569      40.33707908611603  ...     6.802    542.2\n",
      "smoothness_se              569   0.007040978910369071  ...  0.001713  0.03113\n",
      "compactness_se             569   0.025478138840070306  ...  0.002252   0.1354\n",
      "concavity_se               569   0.031893716344463946  ...       0.0    0.396\n",
      "concave points_se          569   0.011796137082601056  ...       0.0  0.05279\n",
      "symmetry_se                569   0.020542298769771532  ...  0.007882  0.07895\n",
      "fractal_dimension_se       569  0.0037949038664323383  ...  8.948E-4  0.02984\n",
      "radius_worst               569     16.269189806678394  ...      7.93    36.04\n",
      "texture_worst              569     25.677223198594014  ...     12.02    49.54\n",
      "perimeter_worst            569      107.2612126537786  ...     50.41    251.2\n",
      "area_worst                 569      880.5831282952545  ...     185.2   4254.0\n",
      "smoothness_worst           569    0.13236859402460469  ...   0.07117   0.2226\n",
      "compactness_worst          569    0.25426504393673144  ...   0.02729    1.058\n",
      "concavity_worst            569    0.27218848330404205  ...       0.0    1.252\n",
      "concave points_worst       569    0.11460622319859404  ...       0.0    0.291\n",
      "symmetry_worst             569    0.29007557117750454  ...    0.1565   0.6638\n",
      "fractal_dimension_worst    569    0.08394581722319855  ...   0.05504   0.2075\n",
      "\n",
      "[31 rows x 5 columns]"
     ]
    }
   ],
   "source": [
    "numeric_features = [t[0] for t in df.dtypes if t[1] == 'double']\n",
    "df.select(numeric_features).describe().toPandas().transpose()"
   ]
  },
  {
   "cell_type": "code",
   "execution_count": 61,
   "metadata": {},
   "outputs": [
    {
     "data": {
      "application/vnd.jupyter.widget-view+json": {
       "model_id": "a79678c604134beeb5edf3e45a6c7ca4",
       "version_major": 2,
       "version_minor": 0
      },
      "text/plain": [
       "VBox()"
      ]
     },
     "metadata": {},
     "output_type": "display_data"
    },
    {
     "data": {
      "application/vnd.jupyter.widget-view+json": {
       "model_id": "",
       "version_major": 2,
       "version_minor": 0
      },
      "text/plain": [
       "FloatProgress(value=0.0, bar_style='info', description='Progress:', layout=Layout(height='25px', width='50%'),…"
      ]
     },
     "metadata": {},
     "output_type": "display_data"
    }
   ],
   "source": [
    "from pyspark.ml.feature import OneHotEncoderEstimator, StringIndexer, VectorAssembler"
   ]
  },
  {
   "cell_type": "code",
   "execution_count": 62,
   "metadata": {},
   "outputs": [
    {
     "data": {
      "application/vnd.jupyter.widget-view+json": {
       "model_id": "81f68048b0d84db1bfa27f9b59573fb4",
       "version_major": 2,
       "version_minor": 0
      },
      "text/plain": [
       "VBox()"
      ]
     },
     "metadata": {},
     "output_type": "display_data"
    },
    {
     "data": {
      "application/vnd.jupyter.widget-view+json": {
       "model_id": "",
       "version_major": 2,
       "version_minor": 0
      },
      "text/plain": [
       "FloatProgress(value=0.0, bar_style='info', description='Progress:', layout=Layout(height='25px', width='50%'),…"
      ]
     },
     "metadata": {},
     "output_type": "display_data"
    },
    {
     "name": "stdout",
     "output_type": "stream",
     "text": [
      "root\n",
      " |-- radius_mean: double (nullable = true)\n",
      " |-- texture_mean: double (nullable = true)\n",
      " |-- perimeter_mean: double (nullable = true)\n",
      " |-- smoothness_mean: double (nullable = true)\n",
      " |-- compactness_mean: double (nullable = true)\n",
      " |-- diagnosis: string (nullable = true)\n",
      " |-- concavity_mean: double (nullable = true)\n",
      " |-- concave points_mean: double (nullable = true)\n",
      " |-- symmetry_mean: double (nullable = true)\n",
      " |-- fractal_dimension_mean: double (nullable = true)\n",
      " |-- radius_se: double (nullable = true)\n",
      " |-- texture_se: double (nullable = true)\n",
      " |-- perimeter_se: double (nullable = true)\n",
      " |-- smoothness_se: double (nullable = true)\n",
      " |-- compactness_se: double (nullable = true)\n",
      " |-- concavity_se: double (nullable = true)\n",
      " |-- concave points_se: double (nullable = true)\n",
      " |-- symmetry_se: double (nullable = true)\n",
      " |-- fractal_dimension_se: double (nullable = true)\n",
      " |-- radius_worst: double (nullable = true)\n",
      " |-- texture_worst: double (nullable = true)\n",
      " |-- perimeter_worst: double (nullable = true)\n",
      " |-- smoothness_worst: double (nullable = true)\n",
      " |-- compactness_worst: double (nullable = true)\n",
      " |-- concavity_worst: double (nullable = true)\n",
      " |-- concave points_worst: double (nullable = true)\n",
      " |-- symmetry_worst: double (nullable = true)\n",
      " |-- fractal_dimension_worst: double (nullable = true)\n",
      " |-- area_mean: double (nullable = true)\n",
      " |-- area_se: double (nullable = true)\n",
      " |-- area_worst: double (nullable = true)"
     ]
    }
   ],
   "source": [
    "\n",
    "df = df.select(\n",
    "               'radius_mean', 'texture_mean', 'perimeter_mean', 'smoothness_mean', 'compactness_mean', \"diagnosis\",\n",
    "               'concavity_mean', 'concave points_mean', 'symmetry_mean', 'fractal_dimension_mean', 'radius_se', \n",
    "               'texture_se', 'perimeter_se',  'smoothness_se', 'compactness_se', 'concavity_se', \n",
    "               'concave points_se', 'symmetry_se', 'fractal_dimension_se', 'radius_worst', 'texture_worst',\n",
    "               'perimeter_worst',  'smoothness_worst', 'compactness_worst', 'concavity_worst',\n",
    "               'concave points_worst', 'symmetry_worst', 'fractal_dimension_worst', 'area_mean', 'area_se', 'area_worst'\n",
    ")\n",
    "cols = df.columns\n",
    "df.printSchema()"
   ]
  },
  {
   "cell_type": "code",
   "execution_count": 63,
   "metadata": {},
   "outputs": [
    {
     "data": {
      "application/vnd.jupyter.widget-view+json": {
       "model_id": "f7c48db523ec4ee49d8820b65a816f51",
       "version_major": 2,
       "version_minor": 0
      },
      "text/plain": [
       "VBox()"
      ]
     },
     "metadata": {},
     "output_type": "display_data"
    },
    {
     "data": {
      "application/vnd.jupyter.widget-view+json": {
       "model_id": "",
       "version_major": 2,
       "version_minor": 0
      },
      "text/plain": [
       "FloatProgress(value=0.0, bar_style='info', description='Progress:', layout=Layout(height='25px', width='50%'),…"
      ]
     },
     "metadata": {},
     "output_type": "display_data"
    }
   ],
   "source": [
    "stages = []\n",
    "categoricalColumns = ['diagnosis']\n",
    "\n",
    "label_stringIdx = StringIndexer(inputCol = 'diagnosis', outputCol = 'label')\n",
    "stages += [label_stringIdx]\n",
    "numericCols = ['radius_mean', 'texture_mean', 'perimeter_mean', 'smoothness_mean', 'compactness_mean',\n",
    "               'concavity_mean', 'concave points_mean', 'symmetry_mean', 'fractal_dimension_mean', 'radius_se', \n",
    "               'texture_se', 'perimeter_se',  'smoothness_se', 'compactness_se', 'concavity_se', \n",
    "               'concave points_se', 'symmetry_se', 'fractal_dimension_se', 'radius_worst', 'texture_worst',\n",
    "               'perimeter_worst',  'smoothness_worst', 'compactness_worst', 'concavity_worst',\n",
    "               'concave points_worst', 'symmetry_worst', 'fractal_dimension_worst', 'area_mean', 'area_se', 'area_worst'\n",
    "              ]\n",
    "assemblerInputs = numericCols\n",
    "assembler = VectorAssembler(inputCols=assemblerInputs, outputCol=\"features\")\n",
    "stages += [assembler]"
   ]
  },
  {
   "cell_type": "code",
   "execution_count": 64,
   "metadata": {},
   "outputs": [
    {
     "data": {
      "application/vnd.jupyter.widget-view+json": {
       "model_id": "0dd5bd9b9e184a0bab740e932b9221eb",
       "version_major": 2,
       "version_minor": 0
      },
      "text/plain": [
       "VBox()"
      ]
     },
     "metadata": {},
     "output_type": "display_data"
    },
    {
     "data": {
      "application/vnd.jupyter.widget-view+json": {
       "model_id": "",
       "version_major": 2,
       "version_minor": 0
      },
      "text/plain": [
       "FloatProgress(value=0.0, bar_style='info', description='Progress:', layout=Layout(height='25px', width='50%'),…"
      ]
     },
     "metadata": {},
     "output_type": "display_data"
    },
    {
     "name": "stdout",
     "output_type": "stream",
     "text": [
      "root\n",
      " |-- label: double (nullable = false)\n",
      " |-- features: vector (nullable = true)\n",
      " |-- radius_mean: double (nullable = true)\n",
      " |-- texture_mean: double (nullable = true)\n",
      " |-- perimeter_mean: double (nullable = true)\n",
      " |-- smoothness_mean: double (nullable = true)\n",
      " |-- compactness_mean: double (nullable = true)\n",
      " |-- diagnosis: string (nullable = true)\n",
      " |-- concavity_mean: double (nullable = true)\n",
      " |-- concave points_mean: double (nullable = true)\n",
      " |-- symmetry_mean: double (nullable = true)\n",
      " |-- fractal_dimension_mean: double (nullable = true)\n",
      " |-- radius_se: double (nullable = true)\n",
      " |-- texture_se: double (nullable = true)\n",
      " |-- perimeter_se: double (nullable = true)\n",
      " |-- smoothness_se: double (nullable = true)\n",
      " |-- compactness_se: double (nullable = true)\n",
      " |-- concavity_se: double (nullable = true)\n",
      " |-- concave points_se: double (nullable = true)\n",
      " |-- symmetry_se: double (nullable = true)\n",
      " |-- fractal_dimension_se: double (nullable = true)\n",
      " |-- radius_worst: double (nullable = true)\n",
      " |-- texture_worst: double (nullable = true)\n",
      " |-- perimeter_worst: double (nullable = true)\n",
      " |-- smoothness_worst: double (nullable = true)\n",
      " |-- compactness_worst: double (nullable = true)\n",
      " |-- concavity_worst: double (nullable = true)\n",
      " |-- concave points_worst: double (nullable = true)\n",
      " |-- symmetry_worst: double (nullable = true)\n",
      " |-- fractal_dimension_worst: double (nullable = true)\n",
      " |-- area_mean: double (nullable = true)\n",
      " |-- area_se: double (nullable = true)\n",
      " |-- area_worst: double (nullable = true)"
     ]
    }
   ],
   "source": [
    "from pyspark.ml import Pipeline\n",
    "\n",
    "pipeline = Pipeline(stages = stages)\n",
    "pipelineModel = pipeline.fit(df)\n",
    "df = pipelineModel.transform(df)\n",
    "selectedCols = ['label', 'features'] + cols\n",
    "df = df.select(selectedCols)\n",
    "df.printSchema()"
   ]
  },
  {
   "cell_type": "code",
   "execution_count": 65,
   "metadata": {},
   "outputs": [
    {
     "data": {
      "application/vnd.jupyter.widget-view+json": {
       "model_id": "8b6a0e82c12948c6a5e3d4bd89208999",
       "version_major": 2,
       "version_minor": 0
      },
      "text/plain": [
       "VBox()"
      ]
     },
     "metadata": {},
     "output_type": "display_data"
    },
    {
     "data": {
      "application/vnd.jupyter.widget-view+json": {
       "model_id": "",
       "version_major": 2,
       "version_minor": 0
      },
      "text/plain": [
       "FloatProgress(value=0.0, bar_style='info', description='Progress:', layout=Layout(height='25px', width='50%'),…"
      ]
     },
     "metadata": {},
     "output_type": "display_data"
    },
    {
     "name": "stdout",
     "output_type": "stream",
     "text": [
      "   label                                           features\n",
      "0    1.0  [17.99, 10.38, 122.8, 0.1184, 0.2776, 0.3001, ...\n",
      "1    1.0  [20.57, 17.77, 132.9, 0.08474, 0.07864, 0.0869...\n",
      "2    1.0  [19.69, 21.25, 130.0, 0.1096, 0.1599, 0.1974, ...\n",
      "3    1.0  [11.42, 20.38, 77.58, 0.1425, 0.2839, 0.2414, ...\n",
      "4    1.0  [20.29, 14.34, 135.1, 0.1003, 0.1328, 0.198, 0..."
     ]
    }
   ],
   "source": [
    "pdf = pd.DataFrame(df.take(5), columns=df.columns)\n",
    "pdf.iloc[:,0:2] "
   ]
  },
  {
   "cell_type": "code",
   "execution_count": 66,
   "metadata": {},
   "outputs": [
    {
     "data": {
      "application/vnd.jupyter.widget-view+json": {
       "model_id": "0361e8561d5643178a10f369d5fe117b",
       "version_major": 2,
       "version_minor": 0
      },
      "text/plain": [
       "VBox()"
      ]
     },
     "metadata": {},
     "output_type": "display_data"
    },
    {
     "data": {
      "application/vnd.jupyter.widget-view+json": {
       "model_id": "",
       "version_major": 2,
       "version_minor": 0
      },
      "text/plain": [
       "FloatProgress(value=0.0, bar_style='info', description='Progress:', layout=Layout(height='25px', width='50%'),…"
      ]
     },
     "metadata": {},
     "output_type": "display_data"
    }
   ],
   "source": [
    "df = df.repartition(100, 'radius_mean')"
   ]
  },
  {
   "cell_type": "code",
   "execution_count": 67,
   "metadata": {},
   "outputs": [
    {
     "data": {
      "application/vnd.jupyter.widget-view+json": {
       "model_id": "7e574c639d7747f49982357c1d165485",
       "version_major": 2,
       "version_minor": 0
      },
      "text/plain": [
       "VBox()"
      ]
     },
     "metadata": {},
     "output_type": "display_data"
    },
    {
     "data": {
      "application/vnd.jupyter.widget-view+json": {
       "model_id": "",
       "version_major": 2,
       "version_minor": 0
      },
      "text/plain": [
       "FloatProgress(value=0.0, bar_style='info', description='Progress:', layout=Layout(height='25px', width='50%'),…"
      ]
     },
     "metadata": {},
     "output_type": "display_data"
    },
    {
     "name": "stdout",
     "output_type": "stream",
     "text": [
      "Training Dataset Count: 497\n",
      "Test Dataset Count: 72"
     ]
    }
   ],
   "source": [
    "train, test = df.randomSplit([0.7, 0.1], seed = 60616)\n",
    "print(\"Training Dataset Count: \" + str(train.count()))\n",
    "print(\"Test Dataset Count: \" + str(test.count()))"
   ]
  },
  {
   "cell_type": "code",
   "execution_count": 68,
   "metadata": {},
   "outputs": [
    {
     "data": {
      "application/vnd.jupyter.widget-view+json": {
       "model_id": "edc1b41ea8c1433aae0c1957dda95c12",
       "version_major": 2,
       "version_minor": 0
      },
      "text/plain": [
       "VBox()"
      ]
     },
     "metadata": {},
     "output_type": "display_data"
    },
    {
     "data": {
      "application/vnd.jupyter.widget-view+json": {
       "model_id": "",
       "version_major": 2,
       "version_minor": 0
      },
      "text/plain": [
       "FloatProgress(value=0.0, bar_style='info', description='Progress:', layout=Layout(height='25px', width='50%'),…"
      ]
     },
     "metadata": {},
     "output_type": "display_data"
    }
   ],
   "source": [
    "## confusion matrix function\n",
    "\n",
    "def cm(y_true, y_pred):\n",
    "    cf_matrix = confusion_matrix(y_true, y_pred)\n",
    "    plt.clf()\n",
    "    sns.heatmap(cf_matrix, annot=True, fmt='', xticklabels=['M', 'B'], yticklabels=['M', 'B'], cmap = \"Blues\")\n",
    "    plt.show()"
   ]
  },
  {
   "cell_type": "code",
   "execution_count": 69,
   "metadata": {},
   "outputs": [
    {
     "data": {
      "application/vnd.jupyter.widget-view+json": {
       "model_id": "19137d93da1c44b0a65a898850562585",
       "version_major": 2,
       "version_minor": 0
      },
      "text/plain": [
       "VBox()"
      ]
     },
     "metadata": {},
     "output_type": "display_data"
    },
    {
     "data": {
      "application/vnd.jupyter.widget-view+json": {
       "model_id": "",
       "version_major": 2,
       "version_minor": 0
      },
      "text/plain": [
       "FloatProgress(value=0.0, bar_style='info', description='Progress:', layout=Layout(height='25px', width='50%'),…"
      ]
     },
     "metadata": {},
     "output_type": "display_data"
    }
   ],
   "source": [
    "## accuracy, precision, recall, f1_score\n",
    "\n",
    "def eval_metrics(y_true, y_pred):\n",
    "    accuracy_score_val = accuracy_score(y_true, y_pred)\n",
    "    precision = precision_score(y_true, y_pred)\n",
    "    recall = recall_score(y_true, y_pred)\n",
    "    recall = 2 * ((precision * recall) / (precision + recall))\n",
    "    \n",
    "    return accuracy_score_val, precision, recall, recall"
   ]
  },
  {
   "cell_type": "markdown",
   "metadata": {},
   "source": [
    "# Logistic Regression Model"
   ]
  },
  {
   "cell_type": "code",
   "execution_count": 70,
   "metadata": {},
   "outputs": [
    {
     "data": {
      "application/vnd.jupyter.widget-view+json": {
       "model_id": "edea96eda11e46699e3a7af6c970ae70",
       "version_major": 2,
       "version_minor": 0
      },
      "text/plain": [
       "VBox()"
      ]
     },
     "metadata": {},
     "output_type": "display_data"
    },
    {
     "data": {
      "application/vnd.jupyter.widget-view+json": {
       "model_id": "",
       "version_major": 2,
       "version_minor": 0
      },
      "text/plain": [
       "FloatProgress(value=0.0, bar_style='info', description='Progress:', layout=Layout(height='25px', width='50%'),…"
      ]
     },
     "metadata": {},
     "output_type": "display_data"
    }
   ],
   "source": [
    "lr = LogisticRegression(featuresCol = 'features', labelCol = 'label', maxIter=10)\n",
    "lrModel = lr.fit(train)\n",
    "\n",
    "trainingSummary = lrModel.summary\n",
    "lrROC = trainingSummary.roc.toPandas()\n",
    "lrPreds = lrModel.transform(test)\n",
    "\n",
    "predicted_values = lrPreds.select('prediction')\n",
    "true_values = test.select('label')\n",
    "\n",
    "y_pred = pd.DataFrame(predicted_values.take(test.count()), columns=['prediction'])\n",
    "y_true = pd.DataFrame(true_values.take(test.count()), columns=['label'])"
   ]
  },
  {
   "cell_type": "markdown",
   "metadata": {},
   "source": [
    "## Logistic Regression evaluation"
   ]
  },
  {
   "cell_type": "markdown",
   "metadata": {},
   "source": [
    "### Confusion Matrix"
   ]
  },
  {
   "cell_type": "code",
   "execution_count": 71,
   "metadata": {},
   "outputs": [
    {
     "data": {
      "application/vnd.jupyter.widget-view+json": {
       "model_id": "611522cc0eb4487eb1ee49a27b43d9c6",
       "version_major": 2,
       "version_minor": 0
      },
      "text/plain": [
       "VBox()"
      ]
     },
     "metadata": {},
     "output_type": "display_data"
    },
    {
     "data": {
      "application/vnd.jupyter.widget-view+json": {
       "model_id": "",
       "version_major": 2,
       "version_minor": 0
      },
      "text/plain": [
       "FloatProgress(value=0.0, bar_style='info', description='Progress:', layout=Layout(height='25px', width='50%'),…"
      ]
     },
     "metadata": {},
     "output_type": "display_data"
    }
   ],
   "source": [
    "cm(y_true, y_pred)"
   ]
  },
  {
   "cell_type": "code",
   "execution_count": 72,
   "metadata": {},
   "outputs": [
    {
     "data": {
      "application/vnd.jupyter.widget-view+json": {
       "model_id": "",
       "version_major": 2,
       "version_minor": 0
      },
      "text/plain": [
       "FloatProgress(value=0.0, bar_style='info', description='Progress:', layout=Layout(height='25px', width='50%'),…"
      ]
     },
     "metadata": {},
     "output_type": "display_data"
    },
    {
     "data": {
      "image/png": "[encoded data removed]",
      "text/plain": [
       "<IPython.core.display.Image object>"
      ]
     },
     "metadata": {},
     "output_type": "display_data"
    }
   ],
   "source": [
    "%matplot plt"
   ]
  },
  {
   "cell_type": "code",
   "execution_count": 73,
   "metadata": {},
   "outputs": [
    {
     "data": {
      "application/vnd.jupyter.widget-view+json": {
       "model_id": "af54e1de67094c22a40a64e1fa15dacc",
       "version_major": 2,
       "version_minor": 0
      },
      "text/plain": [
       "VBox()"
      ]
     },
     "metadata": {},
     "output_type": "display_data"
    },
    {
     "data": {
      "application/vnd.jupyter.widget-view+json": {
       "model_id": "",
       "version_major": 2,
       "version_minor": 0
      },
      "text/plain": [
       "FloatProgress(value=0.0, bar_style='info', description='Progress:', layout=Layout(height='25px', width='50%'),…"
      ]
     },
     "metadata": {},
     "output_type": "display_data"
    },
    {
     "name": "stdout",
     "output_type": "stream",
     "text": [
      "Logistics Regression Analysis, Accuracy 0.9583333333333334, Precision 1.0, Recall 0.9361702127659575, F1 measure 0.9361702127659575"
     ]
    }
   ],
   "source": [
    "### Accuracy, Precision, Recall, F1 score\n",
    "\n",
    "accuracy, precision, recall, f1_score = eval_metrics(y_true, y_pred)\n",
    "\n",
    "print('Logistics Regression Analysis, Accuracy {}, Precision {}, Recall {}, F1 measure {} '.format(accuracy,\n",
    "                                                                                precision, recall, f1_score))"
   ]
  },
  {
   "cell_type": "code",
   "execution_count": 74,
   "metadata": {},
   "outputs": [
    {
     "data": {
      "application/vnd.jupyter.widget-view+json": {
       "model_id": "e2cc14df4a604eb08730dcdaaa0063bc",
       "version_major": 2,
       "version_minor": 0
      },
      "text/plain": [
       "VBox()"
      ]
     },
     "metadata": {},
     "output_type": "display_data"
    },
    {
     "data": {
      "application/vnd.jupyter.widget-view+json": {
       "model_id": "",
       "version_major": 2,
       "version_minor": 0
      },
      "text/plain": [
       "FloatProgress(value=0.0, bar_style='info', description='Progress:', layout=Layout(height='25px', width='50%'),…"
      ]
     },
     "metadata": {},
     "output_type": "display_data"
    }
   ],
   "source": [
    "plt.clf()\n",
    "plt.plot(lrROC['FPR'],lrROC['TPR'])\n",
    "plt.ylabel('False Positive Rate')\n",
    "plt.xlabel('True Positive Rate')\n",
    "plt.title('ROC Curve for Logistics Regression for Training')\n",
    "plt.show()"
   ]
  },
  {
   "cell_type": "code",
   "execution_count": 76,
   "metadata": {},
   "outputs": [
    {
     "data": {
      "application/vnd.jupyter.widget-view+json": {
       "model_id": "",
       "version_major": 2,
       "version_minor": 0
      },
      "text/plain": [
       "FloatProgress(value=0.0, bar_style='info', description='Progress:', layout=Layout(height='25px', width='50%'),…"
      ]
     },
     "metadata": {},
     "output_type": "display_data"
    },
    {
     "data": {
      "image/png": "[encoded data removed]",
      "text/plain": [
       "<IPython.core.display.Image object>"
      ]
     },
     "metadata": {},
     "output_type": "display_data"
    }
   ],
   "source": [
    "%matplot plt"
   ]
  },
  {
   "cell_type": "code",
   "execution_count": 77,
   "metadata": {},
   "outputs": [
    {
     "data": {
      "application/vnd.jupyter.widget-view+json": {
       "model_id": "502be96c94f849ae81ea5932462abd01",
       "version_major": 2,
       "version_minor": 0
      },
      "text/plain": [
       "VBox()"
      ]
     },
     "metadata": {},
     "output_type": "display_data"
    },
    {
     "data": {
      "application/vnd.jupyter.widget-view+json": {
       "model_id": "",
       "version_major": 2,
       "version_minor": 0
      },
      "text/plain": [
       "FloatProgress(value=0.0, bar_style='info', description='Progress:', layout=Layout(height='25px', width='50%'),…"
      ]
     },
     "metadata": {},
     "output_type": "display_data"
    },
    {
     "name": "stdout",
     "output_type": "stream",
     "text": [
      "Training set area Under ROC: 0.9985337243401758\n",
      "Test Area Under ROC 0.9702127659574468"
     ]
    }
   ],
   "source": [
    "print('Training set area Under ROC: ' + str(trainingSummary.areaUnderROC))\n",
    "print('Test Area Under ROC', lrEval.evaluate(lrPreds))"
   ]
  },
  {
   "cell_type": "markdown",
   "metadata": {},
   "source": [
    "# DecisionTreeClassifier"
   ]
  },
  {
   "cell_type": "code",
   "execution_count": 78,
   "metadata": {},
   "outputs": [
    {
     "data": {
      "application/vnd.jupyter.widget-view+json": {
       "model_id": "dcf0722656a840a19061d4107846a716",
       "version_major": 2,
       "version_minor": 0
      },
      "text/plain": [
       "VBox()"
      ]
     },
     "metadata": {},
     "output_type": "display_data"
    },
    {
     "data": {
      "application/vnd.jupyter.widget-view+json": {
       "model_id": "",
       "version_major": 2,
       "version_minor": 0
      },
      "text/plain": [
       "FloatProgress(value=0.0, bar_style='info', description='Progress:', layout=Layout(height='25px', width='50%'),…"
      ]
     },
     "metadata": {},
     "output_type": "display_data"
    }
   ],
   "source": [
    "dt = DecisionTreeClassifier(featuresCol = 'features', labelCol = 'label', maxDepth = 3)\n",
    "dtModel = dt.fit(train)\n",
    "dtPreds = dtModel.transform(test)\n",
    "\n",
    "predicted_values = dtPreds.select('prediction')\n",
    "true_values = test.select('label')\n",
    "\n",
    "y_pred = pd.DataFrame(predicted_values.take(test.count()), columns=['prediction'])\n",
    "y_true = pd.DataFrame(true_values.take(test.count()), columns=['label'])"
   ]
  },
  {
   "cell_type": "markdown",
   "metadata": {},
   "source": [
    "## DecisionTreeClassifier Evaluation"
   ]
  },
  {
   "cell_type": "code",
   "execution_count": 79,
   "metadata": {},
   "outputs": [
    {
     "data": {
      "application/vnd.jupyter.widget-view+json": {
       "model_id": "0a01990d847a4c888c31651cad187edd",
       "version_major": 2,
       "version_minor": 0
      },
      "text/plain": [
       "VBox()"
      ]
     },
     "metadata": {},
     "output_type": "display_data"
    },
    {
     "data": {
      "application/vnd.jupyter.widget-view+json": {
       "model_id": "",
       "version_major": 2,
       "version_minor": 0
      },
      "text/plain": [
       "FloatProgress(value=0.0, bar_style='info', description='Progress:', layout=Layout(height='25px', width='50%'),…"
      ]
     },
     "metadata": {},
     "output_type": "display_data"
    }
   ],
   "source": [
    "cm(y_true, y_pred)"
   ]
  },
  {
   "cell_type": "code",
   "execution_count": 80,
   "metadata": {},
   "outputs": [
    {
     "data": {
      "application/vnd.jupyter.widget-view+json": {
       "model_id": "",
       "version_major": 2,
       "version_minor": 0
      },
      "text/plain": [
       "FloatProgress(value=0.0, bar_style='info', description='Progress:', layout=Layout(height='25px', width='50%'),…"
      ]
     },
     "metadata": {},
     "output_type": "display_data"
    },
    {
     "data": {
      "image/png": "[encoded data removed]",
      "text/plain": [
       "<IPython.core.display.Image object>"
      ]
     },
     "metadata": {},
     "output_type": "display_data"
    }
   ],
   "source": [
    "%matplot plt"
   ]
  },
  {
   "cell_type": "code",
   "execution_count": 81,
   "metadata": {},
   "outputs": [
    {
     "data": {
      "application/vnd.jupyter.widget-view+json": {
       "model_id": "c372242627d74475b979601927d6074a",
       "version_major": 2,
       "version_minor": 0
      },
      "text/plain": [
       "VBox()"
      ]
     },
     "metadata": {},
     "output_type": "display_data"
    },
    {
     "data": {
      "application/vnd.jupyter.widget-view+json": {
       "model_id": "",
       "version_major": 2,
       "version_minor": 0
      },
      "text/plain": [
       "FloatProgress(value=0.0, bar_style='info', description='Progress:', layout=Layout(height='25px', width='50%'),…"
      ]
     },
     "metadata": {},
     "output_type": "display_data"
    },
    {
     "name": "stdout",
     "output_type": "stream",
     "text": [
      "DecisionTreeClassifer Evaluation, Accuracy 0.9166666666666666, Precision 1.0, Recall 0.8636363636363636, F1 measure 0.8636363636363636"
     ]
    }
   ],
   "source": [
    "## accuracy, precision, recall and f1-measure\n",
    "accuracy, precision, recall, f1_score = eval_metrics(y_true, y_pred)\n",
    "\n",
    "print('DecisionTreeClassifer Evaluation, Accuracy {}, Precision {}, Recall {}, F1 measure {} '.format(accuracy,\n",
    "                                                                                precision, recall, f1_score))"
   ]
  },
  {
   "cell_type": "code",
   "execution_count": 82,
   "metadata": {},
   "outputs": [
    {
     "data": {
      "application/vnd.jupyter.widget-view+json": {
       "model_id": "76aeca0847b2493b9044e1676be45db3",
       "version_major": 2,
       "version_minor": 0
      },
      "text/plain": [
       "VBox()"
      ]
     },
     "metadata": {},
     "output_type": "display_data"
    },
    {
     "data": {
      "application/vnd.jupyter.widget-view+json": {
       "model_id": "",
       "version_major": 2,
       "version_minor": 0
      },
      "text/plain": [
       "FloatProgress(value=0.0, bar_style='info', description='Progress:', layout=Layout(height='25px', width='50%'),…"
      ]
     },
     "metadata": {},
     "output_type": "display_data"
    },
    {
     "name": "stdout",
     "output_type": "stream",
     "text": [
      "Test Area Under ROC: 0.8421276595744681"
     ]
    }
   ],
   "source": [
    "dtEval = BinaryClassificationEvaluator()\n",
    "dtROC = dtEval.evaluate(dtPreds, {dtEval.metricName: \"areaUnderROC\"})\n",
    "\n",
    "print(\"Test Area Under ROC: \" + str(dtROC))"
   ]
  },
  {
   "cell_type": "markdown",
   "metadata": {},
   "source": [
    "# RandomForestClassifier"
   ]
  },
  {
   "cell_type": "code",
   "execution_count": 83,
   "metadata": {},
   "outputs": [
    {
     "data": {
      "application/vnd.jupyter.widget-view+json": {
       "model_id": "a26957f4c4184c1f8d91ec2a16f578c1",
       "version_major": 2,
       "version_minor": 0
      },
      "text/plain": [
       "VBox()"
      ]
     },
     "metadata": {},
     "output_type": "display_data"
    },
    {
     "data": {
      "application/vnd.jupyter.widget-view+json": {
       "model_id": "",
       "version_major": 2,
       "version_minor": 0
      },
      "text/plain": [
       "FloatProgress(value=0.0, bar_style='info', description='Progress:', layout=Layout(height='25px', width='50%'),…"
      ]
     },
     "metadata": {},
     "output_type": "display_data"
    }
   ],
   "source": [
    "rf = RandomForestClassifier(featuresCol = 'features', labelCol = 'label')\n",
    "rfModel = rf.fit(train)\n",
    "rfPreds = rfModel.transform(test)\n",
    "\n",
    "predicted_values = rfPreds.select('prediction')\n",
    "true_values = test.select('label')\n",
    "\n",
    "y_pred = pd.DataFrame(predicted_values.take(test.count()), columns=['prediction'])\n",
    "y_true = pd.DataFrame(true_values.take(test.count()), columns=['label'])"
   ]
  },
  {
   "cell_type": "markdown",
   "metadata": {},
   "source": [
    "## RandomForestClassifier Evaluation"
   ]
  },
  {
   "cell_type": "code",
   "execution_count": 84,
   "metadata": {},
   "outputs": [
    {
     "data": {
      "application/vnd.jupyter.widget-view+json": {
       "model_id": "86c64150ddbc4d2699c6b9e236fc6ef6",
       "version_major": 2,
       "version_minor": 0
      },
      "text/plain": [
       "VBox()"
      ]
     },
     "metadata": {},
     "output_type": "display_data"
    },
    {
     "data": {
      "application/vnd.jupyter.widget-view+json": {
       "model_id": "",
       "version_major": 2,
       "version_minor": 0
      },
      "text/plain": [
       "FloatProgress(value=0.0, bar_style='info', description='Progress:', layout=Layout(height='25px', width='50%'),…"
      ]
     },
     "metadata": {},
     "output_type": "display_data"
    }
   ],
   "source": [
    "## confusion matrix\n",
    "cm(y_true, y_pred)"
   ]
  },
  {
   "cell_type": "code",
   "execution_count": 85,
   "metadata": {},
   "outputs": [
    {
     "data": {
      "application/vnd.jupyter.widget-view+json": {
       "model_id": "",
       "version_major": 2,
       "version_minor": 0
      },
      "text/plain": [
       "FloatProgress(value=0.0, bar_style='info', description='Progress:', layout=Layout(height='25px', width='50%'),…"
      ]
     },
     "metadata": {},
     "output_type": "display_data"
    },
    {
     "data": {
      "image/png": "[encoded data removed]",
      "text/plain": [
       "<IPython.core.display.Image object>"
      ]
     },
     "metadata": {},
     "output_type": "display_data"
    }
   ],
   "source": [
    "%matplot plt "
   ]
  },
  {
   "cell_type": "code",
   "execution_count": 86,
   "metadata": {},
   "outputs": [
    {
     "data": {
      "application/vnd.jupyter.widget-view+json": {
       "model_id": "c96af7efa23f44cb8ea23c267fde081a",
       "version_major": 2,
       "version_minor": 0
      },
      "text/plain": [
       "VBox()"
      ]
     },
     "metadata": {},
     "output_type": "display_data"
    },
    {
     "data": {
      "application/vnd.jupyter.widget-view+json": {
       "model_id": "",
       "version_major": 2,
       "version_minor": 0
      },
      "text/plain": [
       "FloatProgress(value=0.0, bar_style='info', description='Progress:', layout=Layout(height='25px', width='50%'),…"
      ]
     },
     "metadata": {},
     "output_type": "display_data"
    },
    {
     "name": "stdout",
     "output_type": "stream",
     "text": [
      "RandomForestClassifier Evaluation, Accuracy 0.9722222222222222, Precision 0.96, Recall 0.96, F1 measure 0.96"
     ]
    }
   ],
   "source": [
    "## accuracy, precision, recall and f1-measure\n",
    "accuracy, precision, recall, f1_score = eval_metrics(y_true, y_pred)\n",
    "\n",
    "print('RandomForestClassifier Evaluation, Accuracy {}, Precision {}, Recall {}, F1 measure {} '.format(accuracy,\n",
    "                                                                                precision, recall, f1_score))"
   ]
  },
  {
   "cell_type": "code",
   "execution_count": 87,
   "metadata": {},
   "outputs": [
    {
     "data": {
      "application/vnd.jupyter.widget-view+json": {
       "model_id": "bc29ebb11fa6427792e9b2c9f1b0a7bc",
       "version_major": 2,
       "version_minor": 0
      },
      "text/plain": [
       "VBox()"
      ]
     },
     "metadata": {},
     "output_type": "display_data"
    },
    {
     "data": {
      "application/vnd.jupyter.widget-view+json": {
       "model_id": "",
       "version_major": 2,
       "version_minor": 0
      },
      "text/plain": [
       "FloatProgress(value=0.0, bar_style='info', description='Progress:', layout=Layout(height='25px', width='50%'),…"
      ]
     },
     "metadata": {},
     "output_type": "display_data"
    },
    {
     "name": "stdout",
     "output_type": "stream",
     "text": [
      "Test Area Under ROC: 0.9595744680851062"
     ]
    }
   ],
   "source": [
    "rfEval = BinaryClassificationEvaluator()\n",
    "rfROC = rfEval.evaluate(rfPreds, {rfEval.metricName: \"areaUnderROC\"})\n",
    "print(\"Test Area Under ROC: \" + str(rfROC))"
   ]
  },
  {
   "cell_type": "markdown",
   "metadata": {},
   "source": [
    "# Naive Bayes Classifier"
   ]
  },
  {
   "cell_type": "code",
   "execution_count": 91,
   "metadata": {},
   "outputs": [
    {
     "data": {
      "application/vnd.jupyter.widget-view+json": {
       "model_id": "49292950dc294fea9b312dec9fb1270a",
       "version_major": 2,
       "version_minor": 0
      },
      "text/plain": [
       "VBox()"
      ]
     },
     "metadata": {},
     "output_type": "display_data"
    },
    {
     "data": {
      "application/vnd.jupyter.widget-view+json": {
       "model_id": "",
       "version_major": 2,
       "version_minor": 0
      },
      "text/plain": [
       "FloatProgress(value=0.0, bar_style='info', description='Progress:', layout=Layout(height='25px', width='50%'),…"
      ]
     },
     "metadata": {},
     "output_type": "display_data"
    }
   ],
   "source": [
    "nb = NaiveBayes(smoothing=1.0)\n",
    "nb_model = nb.fit(train)\n",
    "\n",
    "nb_preds = nb_model.transform(test)\n",
    "\n",
    "predicted_values = nb_preds.select('prediction')\n",
    "true_values = test.select('label')\n",
    "\n",
    "y_pred = pd.DataFrame(predicted_values.take(test.count()), columns=['prediction'])\n",
    "y_true = pd.DataFrame(true_values.take(test.count()), columns=['label'])"
   ]
  },
  {
   "cell_type": "markdown",
   "metadata": {},
   "source": [
    "## Naive Bayes Evaluation"
   ]
  },
  {
   "cell_type": "code",
   "execution_count": 92,
   "metadata": {},
   "outputs": [
    {
     "data": {
      "application/vnd.jupyter.widget-view+json": {
       "model_id": "a742f2f20c5a478f98a10d83270e758c",
       "version_major": 2,
       "version_minor": 0
      },
      "text/plain": [
       "VBox()"
      ]
     },
     "metadata": {},
     "output_type": "display_data"
    },
    {
     "data": {
      "application/vnd.jupyter.widget-view+json": {
       "model_id": "",
       "version_major": 2,
       "version_minor": 0
      },
      "text/plain": [
       "FloatProgress(value=0.0, bar_style='info', description='Progress:', layout=Layout(height='25px', width='50%'),…"
      ]
     },
     "metadata": {},
     "output_type": "display_data"
    }
   ],
   "source": [
    "## confusion matrix\n",
    "cm(y_true, y_pred)"
   ]
  },
  {
   "cell_type": "code",
   "execution_count": 93,
   "metadata": {},
   "outputs": [
    {
     "data": {
      "application/vnd.jupyter.widget-view+json": {
       "model_id": "",
       "version_major": 2,
       "version_minor": 0
      },
      "text/plain": [
       "FloatProgress(value=0.0, bar_style='info', description='Progress:', layout=Layout(height='25px', width='50%'),…"
      ]
     },
     "metadata": {},
     "output_type": "display_data"
    },
    {
     "data": {
      "image/png": "[encoded data removed]",
      "text/plain": [
       "<IPython.core.display.Image object>"
      ]
     },
     "metadata": {},
     "output_type": "display_data"
    }
   ],
   "source": [
    "%matplot plt "
   ]
  },
  {
   "cell_type": "code",
   "execution_count": 94,
   "metadata": {},
   "outputs": [
    {
     "data": {
      "application/vnd.jupyter.widget-view+json": {
       "model_id": "28ae269d146740008cd6ab60c72a133e",
       "version_major": 2,
       "version_minor": 0
      },
      "text/plain": [
       "VBox()"
      ]
     },
     "metadata": {},
     "output_type": "display_data"
    },
    {
     "data": {
      "application/vnd.jupyter.widget-view+json": {
       "model_id": "",
       "version_major": 2,
       "version_minor": 0
      },
      "text/plain": [
       "FloatProgress(value=0.0, bar_style='info', description='Progress:', layout=Layout(height='25px', width='50%'),…"
      ]
     },
     "metadata": {},
     "output_type": "display_data"
    },
    {
     "name": "stdout",
     "output_type": "stream",
     "text": [
      "RandomForestClassifier Evaluation, Accuracy 0.8611111111111112, Precision 0.9411764705882353, Recall 0.7619047619047621, F1 measure 0.7619047619047621"
     ]
    }
   ],
   "source": [
    "## accuracy, precision, recall and f1-measure\n",
    "accuracy, precision, recall, f1_score = eval_metrics(y_true, y_pred)\n",
    "\n",
    "print('RandomForestClassifier Evaluation, Accuracy {}, Precision {}, Recall {}, F1 measure {} '.format(accuracy,\n",
    "                                                                                precision, recall, f1_score))"
   ]
  },
  {
   "cell_type": "code",
   "execution_count": 95,
   "metadata": {},
   "outputs": [
    {
     "data": {
      "application/vnd.jupyter.widget-view+json": {
       "model_id": "4198122a8021465a859355b23abb5d87",
       "version_major": 2,
       "version_minor": 0
      },
      "text/plain": [
       "VBox()"
      ]
     },
     "metadata": {},
     "output_type": "display_data"
    },
    {
     "data": {
      "application/vnd.jupyter.widget-view+json": {
       "model_id": "",
       "version_major": 2,
       "version_minor": 0
      },
      "text/plain": [
       "FloatProgress(value=0.0, bar_style='info', description='Progress:', layout=Layout(height='25px', width='50%'),…"
      ]
     },
     "metadata": {},
     "output_type": "display_data"
    },
    {
     "name": "stdout",
     "output_type": "stream",
     "text": [
      "Test Area Under ROC: 0.04936170212765958"
     ]
    }
   ],
   "source": [
    "rfEval = BinaryClassificationEvaluator()\n",
    "rfROC = rfEval.evaluate(nb_preds, {rfEval.metricName: \"areaUnderROC\"})\n",
    "print(\"Test Area Under ROC: \" + str(rfROC))"
   ]
  },
  {
   "cell_type": "code",
   "execution_count": null,
   "metadata": {},
   "outputs": [],
   "source": []
  }
 ],
 "metadata": {
  "kernelspec": {
   "display_name": "PySpark",
   "language": "",
   "name": "pysparkkernel"
  },
  "language_info": {
   "codemirror_mode": {
    "name": "python",
    "version": 2
   },
   "mimetype": "text/x-python",
   "name": "pyspark",
   "pygments_lexer": "python2"
  }
 },
 "nbformat": 4,
 "nbformat_minor": 4
}
